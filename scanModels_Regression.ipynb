{
  "nbformat": 4,
  "nbformat_minor": 0,
  "metadata": {
    "colab": {
      "name": "scanModels_Regression.ipynb",
      "provenance": [],
      "collapsed_sections": [],
      "authorship_tag": "ABX9TyNfvQqJU7QidolY/J7dPXCY",
      "include_colab_link": true
    },
    "kernelspec": {
      "name": "python3",
      "display_name": "Python 3"
    },
    "language_info": {
      "name": "python"
    }
  },
  "cells": [
    {
      "cell_type": "markdown",
      "metadata": {
        "id": "view-in-github",
        "colab_type": "text"
      },
      "source": [
        "<a href=\"https://colab.research.google.com/github/angeruzzi/MachineLearningRef/blob/main/scanModels_Regression.ipynb\" target=\"_parent\"><img src=\"https://colab.research.google.com/assets/colab-badge.svg\" alt=\"Open In Colab\"/></a>"
      ]
    },
    {
      "cell_type": "markdown",
      "metadata": {
        "id": "NgrP4O7ZqsTV"
      },
      "source": [
        "#Comparação de Modelos\n",
        "\n",
        "\n",
        "Autor: [Alessandro S. Angeruzzi](https://www.linkedin.com/in/alessandroangeruzzi/)"
      ]
    },
    {
      "cell_type": "code",
      "metadata": {
        "id": "XzTpJHrVqrH6"
      },
      "source": [
        "import pandas as pd\n",
        "import numpy as np\n",
        "\n",
        "from sklearn.model_selection import train_test_split #para aplicação do Holdout\n",
        "from sklearn.metrics import mean_squared_error #EQM\n",
        "from sklearn.metrics import mean_absolute_error #EMA\n",
        "\n",
        "from sklearn.linear_model import LinearRegression #Regressão Linear\n",
        "from sklearn.neighbors import KNeighborsRegressor #KNN\n",
        "from sklearn.tree import DecisionTreeRegressor #Arvore de Decisão"
      ],
      "execution_count": null,
      "outputs": []
    },
    {
      "cell_type": "code",
      "metadata": {
        "id": "AAmTL0YcqqqM"
      },
      "source": [
        "def HoldoutRepetido(modelo, X, y, R = 100, tsize = 0.25):\n",
        "  eqms = []\n",
        "  emas = []\n",
        "\n",
        "  for i in range(R):\n",
        "    Xtreino, Xteste, ytreino, yteste = train_test_split(X, y, test_size = tsize)\n",
        "    mdl = modelo\n",
        "    mdl.fit(Xtreino, ytreino)\n",
        "    preditos = mdl.predict(Xteste)\n",
        "    eqm = mean_squared_error(yteste, preditos)\n",
        "    ema = mean_absolute_error(yteste, preditos) #np.mean(abs(yteste - preditos))\n",
        "    eqms.append(eqm)\n",
        "    emas.append(ema)\n",
        "  \n",
        "  res1 = np.array(eqms).mean().round(2)\n",
        "  res2 = np.array(emas).mean().round(2)\n",
        "  return res1, res2"
      ],
      "execution_count": null,
      "outputs": []
    },
    {
      "cell_type": "code",
      "metadata": {
        "id": "DK_mOaOb5e2t"
      },
      "source": [
        "def ScanModel(modelos, nomes, X, y, R = 100, tsize=0.25):\n",
        "  res1 = []\n",
        "  res2 = []  \n",
        "  for modelo in modelos:\n",
        "    ret = HoldoutRepetido(modelo, X, y, R, tsize)\n",
        "    res1.append(ret[0])\n",
        "    res2.append(ret[1])\n",
        "\n",
        "  resultados = pd.DataFrame({'EQM':res1, 'EMA':res2}, index=nomes)\n",
        "  return resultados"
      ],
      "execution_count": null,
      "outputs": []
    },
    {
      "cell_type": "code",
      "metadata": {
        "id": "nT3NMFtY2tNi"
      },
      "source": [
        "#Dados Utilizados\n",
        "fonte = 'https://raw.githubusercontent.com/angeruzzi/Datasource/main/exampleDataInsurance.csv'\n",
        "dados = pd.read_csv(fonte)\n",
        "#Tratativas\n",
        "dados['smoker'] = dados['smoker'].map({'yes':1, 'no':0})\n",
        "dados['charges'] = dados['charges']/1000\n",
        "dados = dados[['bmi', 'smoker', 'charges']]\n",
        "\n",
        "X = dados[['bmi', 'smoker']]\n",
        "y = dados['charges'] "
      ],
      "execution_count": null,
      "outputs": []
    },
    {
      "cell_type": "code",
      "metadata": {
        "id": "Y5ixybIl5TJb"
      },
      "source": [
        "modelos = [LinearRegression(), \n",
        "           KNeighborsRegressor(n_neighbors = 5), \n",
        "           KNeighborsRegressor(n_neighbors = 15),\n",
        "           KNeighborsRegressor(n_neighbors = 25),\n",
        "           KNeighborsRegressor(n_neighbors = 35),\n",
        "           KNeighborsRegressor(n_neighbors = 45),\n",
        "           DecisionTreeRegressor(max_depth = 1),\n",
        "           DecisionTreeRegressor(max_depth = 2),\n",
        "           DecisionTreeRegressor(max_depth = 3),\n",
        "           DecisionTreeRegressor(max_depth = 4),\n",
        "           DecisionTreeRegressor(max_depth = 5)]\n",
        "\n",
        "nomes = ['Regressão Linear',\n",
        "         'KNN - K = 5', \n",
        "         'KNN - K = 15', \n",
        "         'KNN - K = 25', \n",
        "         'KNN - K = 35', \n",
        "         'KNN - K = 45',\n",
        "         'Árvore - Prof = 1',\n",
        "         'Árvore - Prof = 2',\n",
        "         'Árvore - Prof = 3',\n",
        "         'Árvore - Prof = 4',\n",
        "         'Árvore - Prof = 5']"
      ],
      "execution_count": null,
      "outputs": []
    },
    {
      "cell_type": "code",
      "metadata": {
        "colab": {
          "base_uri": "https://localhost:8080/",
          "height": 393
        },
        "id": "sIK8jcgz52iL",
        "outputId": "6cc7854e-5a27-43fc-8aae-cd7453fa2c92"
      },
      "source": [
        "resultados = ScanModel(modelos, nomes, X, y, R = 1000, tsize=0.25)\n",
        "resultados.sort_values(by='EQM')"
      ],
      "execution_count": null,
      "outputs": [
        {
          "output_type": "execute_result",
          "data": {
            "text/html": [
              "<div>\n",
              "<style scoped>\n",
              "    .dataframe tbody tr th:only-of-type {\n",
              "        vertical-align: middle;\n",
              "    }\n",
              "\n",
              "    .dataframe tbody tr th {\n",
              "        vertical-align: top;\n",
              "    }\n",
              "\n",
              "    .dataframe thead th {\n",
              "        text-align: right;\n",
              "    }\n",
              "</style>\n",
              "<table border=\"1\" class=\"dataframe\">\n",
              "  <thead>\n",
              "    <tr style=\"text-align: right;\">\n",
              "      <th></th>\n",
              "      <th>EQM</th>\n",
              "      <th>EMA</th>\n",
              "    </tr>\n",
              "  </thead>\n",
              "  <tbody>\n",
              "    <tr>\n",
              "      <th>Árvore - Prof = 3</th>\n",
              "      <td>34.85</td>\n",
              "      <td>4.42</td>\n",
              "    </tr>\n",
              "    <tr>\n",
              "      <th>Árvore - Prof = 2</th>\n",
              "      <td>35.00</td>\n",
              "      <td>4.44</td>\n",
              "    </tr>\n",
              "    <tr>\n",
              "      <th>Árvore - Prof = 4</th>\n",
              "      <td>35.91</td>\n",
              "      <td>4.48</td>\n",
              "    </tr>\n",
              "    <tr>\n",
              "      <th>Árvore - Prof = 5</th>\n",
              "      <td>37.39</td>\n",
              "      <td>4.55</td>\n",
              "    </tr>\n",
              "    <tr>\n",
              "      <th>KNN - K = 5</th>\n",
              "      <td>47.16</td>\n",
              "      <td>4.99</td>\n",
              "    </tr>\n",
              "    <tr>\n",
              "      <th>Regressão Linear</th>\n",
              "      <td>50.64</td>\n",
              "      <td>5.43</td>\n",
              "    </tr>\n",
              "    <tr>\n",
              "      <th>KNN - K = 15</th>\n",
              "      <td>51.13</td>\n",
              "      <td>5.11</td>\n",
              "    </tr>\n",
              "    <tr>\n",
              "      <th>Árvore - Prof = 1</th>\n",
              "      <td>55.93</td>\n",
              "      <td>5.67</td>\n",
              "    </tr>\n",
              "    <tr>\n",
              "      <th>KNN - K = 25</th>\n",
              "      <td>59.67</td>\n",
              "      <td>5.46</td>\n",
              "    </tr>\n",
              "    <tr>\n",
              "      <th>KNN - K = 35</th>\n",
              "      <td>73.03</td>\n",
              "      <td>6.11</td>\n",
              "    </tr>\n",
              "    <tr>\n",
              "      <th>KNN - K = 45</th>\n",
              "      <td>85.27</td>\n",
              "      <td>6.59</td>\n",
              "    </tr>\n",
              "  </tbody>\n",
              "</table>\n",
              "</div>"
            ],
            "text/plain": [
              "                     EQM   EMA\n",
              "Árvore - Prof = 3  34.85  4.42\n",
              "Árvore - Prof = 2  35.00  4.44\n",
              "Árvore - Prof = 4  35.91  4.48\n",
              "Árvore - Prof = 5  37.39  4.55\n",
              "KNN - K = 5        47.16  4.99\n",
              "Regressão Linear   50.64  5.43\n",
              "KNN - K = 15       51.13  5.11\n",
              "Árvore - Prof = 1  55.93  5.67\n",
              "KNN - K = 25       59.67  5.46\n",
              "KNN - K = 35       73.03  6.11\n",
              "KNN - K = 45       85.27  6.59"
            ]
          },
          "metadata": {
            "tags": []
          },
          "execution_count": 20
        }
      ]
    }
  ]
}