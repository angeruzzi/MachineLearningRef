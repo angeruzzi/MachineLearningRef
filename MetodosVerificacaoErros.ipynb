{
  "nbformat": 4,
  "nbformat_minor": 0,
  "metadata": {
    "colab": {
      "name": "Untitled5.ipynb",
      "provenance": [],
      "collapsed_sections": [],
      "authorship_tag": "ABX9TyOU1uU5PBu8AsjyLSG1plij",
      "include_colab_link": true
    },
    "kernelspec": {
      "name": "python3",
      "display_name": "Python 3"
    },
    "language_info": {
      "name": "python"
    }
  },
  "cells": [
    {
      "cell_type": "markdown",
      "metadata": {
        "id": "view-in-github",
        "colab_type": "text"
      },
      "source": [
        "<a href=\"https://colab.research.google.com/github/angeruzzi/MachineLearningRef/blob/main/MetodosVerificacaoErros.ipynb\" target=\"_parent\"><img src=\"https://colab.research.google.com/assets/colab-badge.svg\" alt=\"Open In Colab\"/></a>"
      ]
    },
    {
      "cell_type": "markdown",
      "metadata": {
        "id": "8jshZtFL2Zkt"
      },
      "source": [
        "#VERIFICAÇÃO DE ERROS\n"
      ]
    },
    {
      "cell_type": "code",
      "metadata": {
        "id": "oke0ZRBM2X7-"
      },
      "source": [
        "#Importação das bibliotecas Utilizadas\n",
        "\n",
        "import pandas as pd\n",
        "from sklearn.linear_model import LinearRegression\n",
        "\n",
        "from sklearn.metrics import mean_squared_error #EQM\n",
        "from sklearn.metrics import r2_score #R^2\n",
        "from sklearn.model_selection import train_test_split "
      ],
      "execution_count": 16,
      "outputs": []
    },
    {
      "cell_type": "code",
      "metadata": {
        "id": "MIhgsFtP24Le"
      },
      "source": [
        "#Dados Utilizados\n",
        "fonte = 'https://raw.githubusercontent.com/angeruzzi/Datasource/main/exampleDataInsurance.csv'\n",
        "dados = pd.read_csv(fonte)\n",
        "#Tratativas\n",
        "dados['smoker'] = dados['smoker'].map({'yes':1, 'no':0})\n",
        "dados['charges'] = dados['charges']/1000\n",
        "dados = dados[['bmi', 'smoker', 'charges']]"
      ],
      "execution_count": 7,
      "outputs": []
    },
    {
      "cell_type": "code",
      "metadata": {
        "id": "KpXFOoUU3jxm"
      },
      "source": [
        "#Modelo de exemplo: Linear Regression\n",
        "#Criando um modelo para previsão de custos de seguro de saúde baseados nas variáveis BMI (ICM) e SMOKER (fumante)\n",
        "X = dados[['bmi', 'smoker']]\n",
        "y = dados['charges'] \n",
        "regressao = LinearRegression()\n",
        "regressao.fit(X, y)\n",
        "preditos = regressao.predict(X)"
      ],
      "execution_count": 9,
      "outputs": []
    },
    {
      "cell_type": "markdown",
      "metadata": {
        "id": "fqYHzoGY2q79"
      },
      "source": [
        "##EQM : Erro Quadrático Médio\n",
        "\n",
        "Nota: Apenas para efeito de teste de uso das funções os erros estão sendo verificados no próprio modelo"
      ]
    },
    {
      "cell_type": "code",
      "metadata": {
        "colab": {
          "base_uri": "https://localhost:8080/"
        },
        "id": "MxghpFyb46_z",
        "outputId": "4366a772-92a0-49b7-e35c-bf53ea48018c"
      },
      "source": [
        "#Parâmetros (valores reais, valores preditos)\n",
        "eqm = mean_squared_error(y, preditos)\n",
        "print('EQM da Regressão Linear: {}'.format(round(eqm, 2)))"
      ],
      "execution_count": 19,
      "outputs": [
        {
          "output_type": "stream",
          "text": [
            "EQM da Regressão Linear: 50.13\n"
          ],
          "name": "stdout"
        }
      ]
    },
    {
      "cell_type": "markdown",
      "metadata": {
        "id": "m1u0ilXo5qma"
      },
      "source": [
        "##R squared ( R Quadrado ) "
      ]
    },
    {
      "cell_type": "code",
      "metadata": {
        "colab": {
          "base_uri": "https://localhost:8080/"
        },
        "id": "6IiKMmnl5mP3",
        "outputId": "a49796c9-d778-4152-e8f9-9c7d6964597b"
      },
      "source": [
        "#Parâmetros (valores reais, valores preditos)\n",
        "r2 = r2_score(y, preditos)\n",
        "print('R^2 da Regressão Linear: {}'.format(round(r2, 2)))"
      ],
      "execution_count": 20,
      "outputs": [
        {
          "output_type": "stream",
          "text": [
            "R^2 da Regressão Linear: 0.66\n"
          ],
          "name": "stdout"
        }
      ]
    },
    {
      "cell_type": "code",
      "metadata": {
        "id": "LRa409oM6i3z"
      },
      "source": [
        ""
      ],
      "execution_count": null,
      "outputs": []
    }
  ]
}