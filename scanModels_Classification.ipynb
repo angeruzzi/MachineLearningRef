{
  "nbformat": 4,
  "nbformat_minor": 0,
  "metadata": {
    "colab": {
      "name": "scanModels_Classification.ipynb",
      "provenance": [],
      "authorship_tag": "ABX9TyOD3N2xBSCByDRr1BpAeJmc",
      "include_colab_link": true
    },
    "kernelspec": {
      "name": "python3",
      "display_name": "Python 3"
    },
    "language_info": {
      "name": "python"
    }
  },
  "cells": [
    {
      "cell_type": "markdown",
      "metadata": {
        "id": "view-in-github",
        "colab_type": "text"
      },
      "source": [
        "<a href=\"https://colab.research.google.com/github/angeruzzi/MachineLearningRef/blob/main/scanModels_Classification.ipynb\" target=\"_parent\"><img src=\"https://colab.research.google.com/assets/colab-badge.svg\" alt=\"Open In Colab\"/></a>"
      ]
    },
    {
      "cell_type": "code",
      "metadata": {
        "id": "AGYyjExxpprw"
      },
      "source": [
        "import pandas as pd\n",
        "\n",
        "from sklearn.linear_model import LogisticRegression\n",
        "from sklearn.neighbors import KNeighborsClassifier\n",
        "from sklearn.tree import DecisionTreeClassifier\n",
        "\n",
        "from sklearn.model_selection import KFold\n",
        "from sklearn.model_selection import cross_validate\n"
      ],
      "execution_count": null,
      "outputs": []
    },
    {
      "cell_type": "code",
      "metadata": {
        "id": "AvhWBoe32Ac6"
      },
      "source": [
        "def Kfold(modelos, nomes, X, y):\n",
        "  accs = []\n",
        "  sens = []\n",
        "  vpps = []\n",
        "  validacao = KFold(n_splits = 10, shuffle = True)\n",
        "\n",
        "  for modelo in modelos:\n",
        "    resultados = cross_validate(modelo, X, y, cv = validacao, scoring = ['accuracy', 'recall', 'precision'])\n",
        "    accs.append(resultados['test_accuracy'].mean())\n",
        "    sens.append(resultados['test_recall'].mean())\n",
        "    vpps.append(resultados['test_precision'].mean())\n",
        "  aux = {'Acurácia': accs, 'Sensibilidade': sens, 'Precisão': vpps}\n",
        "  resultados = pd.DataFrame(aux, index = nomes)\n",
        "  return resultados"
      ],
      "execution_count": null,
      "outputs": []
    },
    {
      "cell_type": "code",
      "metadata": {
        "id": "vjYpx2po384h"
      },
      "source": [
        "#Dados Utilizados\n",
        "fonte = 'https://raw.githubusercontent.com/angeruzzi/Datasource/main/exampleDataInsurance.csv'\n",
        "dados = pd.read_csv(fonte)\n",
        "#Tratativas\n",
        "dados['smoker'] = dados['smoker'].map({'yes':1, 'no':0})\n",
        "dados['charges'] = dados['charges']/1000\n",
        "dados = dados[['bmi', 'smoker', 'charges']]\n",
        "\n",
        "X = dados[['bmi', 'charges']]\n",
        "y = dados['smoker'] "
      ],
      "execution_count": null,
      "outputs": []
    },
    {
      "cell_type": "code",
      "metadata": {
        "colab": {
          "base_uri": "https://localhost:8080/",
          "height": 393
        },
        "id": "Z8uyMuwX3j0W",
        "outputId": "9dc4f980-7009-4461-b803-2def78bf4af2"
      },
      "source": [
        "modelos = [LogisticRegression(), \n",
        "           KNeighborsClassifier(n_neighbors = 5), \n",
        "           KNeighborsClassifier(n_neighbors = 15),\n",
        "           KNeighborsClassifier(n_neighbors = 25),\n",
        "           KNeighborsClassifier(n_neighbors = 35),\n",
        "           KNeighborsClassifier(n_neighbors = 45),\n",
        "           DecisionTreeClassifier(max_depth = 1),\n",
        "           DecisionTreeClassifier(max_depth = 2),\n",
        "           DecisionTreeClassifier(max_depth = 3),\n",
        "           DecisionTreeClassifier(max_depth = 4),\n",
        "           DecisionTreeClassifier(max_depth = 5)]\n",
        "\n",
        "nomes = ['Regressão Logística',\n",
        "         'KNN - K = 5', \n",
        "         'KNN - K = 15', \n",
        "         'KNN - K = 25', \n",
        "         'KNN - K = 35', \n",
        "         'KNN - K = 45',\n",
        "         'Árvore - Prof = 1',\n",
        "         'Árvore - Prof = 2',\n",
        "         'Árvore - Prof = 3',\n",
        "         'Árvore - Prof = 4',\n",
        "         'Árvore - Prof = 5']\n",
        "\n",
        "resultados = Kfold(modelos, nomes, X, y)\n",
        "resultados.sort_values(by = 'Precisão', ascending = False).round(4)"
      ],
      "execution_count": null,
      "outputs": [
        {
          "output_type": "execute_result",
          "data": {
            "text/html": [
              "<div>\n",
              "<style scoped>\n",
              "    .dataframe tbody tr th:only-of-type {\n",
              "        vertical-align: middle;\n",
              "    }\n",
              "\n",
              "    .dataframe tbody tr th {\n",
              "        vertical-align: top;\n",
              "    }\n",
              "\n",
              "    .dataframe thead th {\n",
              "        text-align: right;\n",
              "    }\n",
              "</style>\n",
              "<table border=\"1\" class=\"dataframe\">\n",
              "  <thead>\n",
              "    <tr style=\"text-align: right;\">\n",
              "      <th></th>\n",
              "      <th>Acurácia</th>\n",
              "      <th>Sensibilidade</th>\n",
              "      <th>Precisão</th>\n",
              "    </tr>\n",
              "  </thead>\n",
              "  <tbody>\n",
              "    <tr>\n",
              "      <th>KNN - K = 5</th>\n",
              "      <td>0.9603</td>\n",
              "      <td>0.9432</td>\n",
              "      <td>0.8752</td>\n",
              "    </tr>\n",
              "    <tr>\n",
              "      <th>Árvore - Prof = 3</th>\n",
              "      <td>0.9626</td>\n",
              "      <td>0.9664</td>\n",
              "      <td>0.8708</td>\n",
              "    </tr>\n",
              "    <tr>\n",
              "      <th>KNN - K = 25</th>\n",
              "      <td>0.9619</td>\n",
              "      <td>0.9677</td>\n",
              "      <td>0.8659</td>\n",
              "    </tr>\n",
              "    <tr>\n",
              "      <th>Árvore - Prof = 4</th>\n",
              "      <td>0.9619</td>\n",
              "      <td>0.9615</td>\n",
              "      <td>0.8639</td>\n",
              "    </tr>\n",
              "    <tr>\n",
              "      <th>Árvore - Prof = 5</th>\n",
              "      <td>0.9544</td>\n",
              "      <td>0.9193</td>\n",
              "      <td>0.8574</td>\n",
              "    </tr>\n",
              "    <tr>\n",
              "      <th>KNN - K = 45</th>\n",
              "      <td>0.9582</td>\n",
              "      <td>0.9571</td>\n",
              "      <td>0.8549</td>\n",
              "    </tr>\n",
              "    <tr>\n",
              "      <th>Regressão Logística</th>\n",
              "      <td>0.9320</td>\n",
              "      <td>0.7976</td>\n",
              "      <td>0.8548</td>\n",
              "    </tr>\n",
              "    <tr>\n",
              "      <th>KNN - K = 15</th>\n",
              "      <td>0.9604</td>\n",
              "      <td>0.9635</td>\n",
              "      <td>0.8533</td>\n",
              "    </tr>\n",
              "    <tr>\n",
              "      <th>KNN - K = 35</th>\n",
              "      <td>0.9574</td>\n",
              "      <td>0.9457</td>\n",
              "      <td>0.8482</td>\n",
              "    </tr>\n",
              "    <tr>\n",
              "      <th>Árvore - Prof = 1</th>\n",
              "      <td>0.9268</td>\n",
              "      <td>0.9620</td>\n",
              "      <td>0.7457</td>\n",
              "    </tr>\n",
              "    <tr>\n",
              "      <th>Árvore - Prof = 2</th>\n",
              "      <td>0.9245</td>\n",
              "      <td>0.9614</td>\n",
              "      <td>0.7448</td>\n",
              "    </tr>\n",
              "  </tbody>\n",
              "</table>\n",
              "</div>"
            ],
            "text/plain": [
              "                     Acurácia  Sensibilidade  Precisão\n",
              "KNN - K = 5            0.9603         0.9432    0.8752\n",
              "Árvore - Prof = 3      0.9626         0.9664    0.8708\n",
              "KNN - K = 25           0.9619         0.9677    0.8659\n",
              "Árvore - Prof = 4      0.9619         0.9615    0.8639\n",
              "Árvore - Prof = 5      0.9544         0.9193    0.8574\n",
              "KNN - K = 45           0.9582         0.9571    0.8549\n",
              "Regressão Logística    0.9320         0.7976    0.8548\n",
              "KNN - K = 15           0.9604         0.9635    0.8533\n",
              "KNN - K = 35           0.9574         0.9457    0.8482\n",
              "Árvore - Prof = 1      0.9268         0.9620    0.7457\n",
              "Árvore - Prof = 2      0.9245         0.9614    0.7448"
            ]
          },
          "metadata": {
            "tags": []
          },
          "execution_count": 7
        }
      ]
    },
    {
      "cell_type": "code",
      "metadata": {
        "id": "QER9P5yP4QAm"
      },
      "source": [
        ""
      ],
      "execution_count": null,
      "outputs": []
    }
  ]
}