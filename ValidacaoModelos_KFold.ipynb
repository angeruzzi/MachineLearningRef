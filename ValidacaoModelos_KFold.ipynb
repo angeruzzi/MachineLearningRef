{
  "nbformat": 4,
  "nbformat_minor": 0,
  "metadata": {
    "colab": {
      "name": "ValidacaoModelos_KFold.ipynb",
      "provenance": [],
      "collapsed_sections": [],
      "authorship_tag": "ABX9TyP0o4Tg0jsgqH6Qn3TJ/hb3",
      "include_colab_link": true
    },
    "kernelspec": {
      "name": "python3",
      "display_name": "Python 3"
    },
    "language_info": {
      "name": "python"
    }
  },
  "cells": [
    {
      "cell_type": "markdown",
      "metadata": {
        "id": "view-in-github",
        "colab_type": "text"
      },
      "source": [
        "<a href=\"https://colab.research.google.com/github/angeruzzi/MachineLearningRef/blob/main/ValidacaoModelos_KFold.ipynb\" target=\"_parent\"><img src=\"https://colab.research.google.com/assets/colab-badge.svg\" alt=\"Open In Colab\"/></a>"
      ]
    },
    {
      "cell_type": "markdown",
      "metadata": {
        "id": "Ou6yqgn0ocae"
      },
      "source": [
        "#VALIDAÇÃO CRUZADA : K-FOLD\n",
        "\n",
        "Autor: [Alessandro S. Angeruzzi](https://www.linkedin.com/in/alessandroangeruzzi/)"
      ]
    },
    {
      "cell_type": "code",
      "metadata": {
        "id": "idj6DgXnoTF9"
      },
      "source": [
        "#Bibliotecas\n",
        "import pandas as pd\n",
        "import numpy as np\n",
        "\n",
        "from sklearn.linear_model import LogisticRegression \n",
        "from sklearn.neighbors import KNeighborsClassifier \n",
        "\n",
        "from sklearn.model_selection import KFold\n",
        "from sklearn.model_selection import cross_validate"
      ],
      "execution_count": null,
      "outputs": []
    },
    {
      "cell_type": "code",
      "metadata": {
        "colab": {
          "base_uri": "https://localhost:8080/",
          "height": 205
        },
        "id": "r2TA5-BIob3x",
        "outputId": "446782a1-780d-4c78-880b-2a7378759088"
      },
      "source": [
        "#Base de Dados\n",
        "fonte = 'https://raw.githubusercontent.com/angeruzzi/Datasource/main/exampleDataInsurance.csv'\n",
        "dados = pd.read_csv(fonte)\n",
        "\n",
        "#Transformações\n",
        "#Variável smoker para 0 e 1\n",
        "dados['smoker'] = dados['smoker'].map({'yes':1, 'no':0})\n",
        "\n",
        "#Alterar a escala da variável resposta charges (custo) para mil dólares \n",
        "dados['charges'] = dados['charges']/1000\n",
        "\n",
        "#Faremos as análise utilizando apenas 3 variáveis : charges (custo), bmi (indice de massa corporal) e smoker (fumante)\n",
        "dados = dados[['bmi', 'smoker', 'charges']]\n",
        "\n",
        "dados.head()"
      ],
      "execution_count": null,
      "outputs": [
        {
          "output_type": "execute_result",
          "data": {
            "text/html": [
              "<div>\n",
              "<style scoped>\n",
              "    .dataframe tbody tr th:only-of-type {\n",
              "        vertical-align: middle;\n",
              "    }\n",
              "\n",
              "    .dataframe tbody tr th {\n",
              "        vertical-align: top;\n",
              "    }\n",
              "\n",
              "    .dataframe thead th {\n",
              "        text-align: right;\n",
              "    }\n",
              "</style>\n",
              "<table border=\"1\" class=\"dataframe\">\n",
              "  <thead>\n",
              "    <tr style=\"text-align: right;\">\n",
              "      <th></th>\n",
              "      <th>bmi</th>\n",
              "      <th>smoker</th>\n",
              "      <th>charges</th>\n",
              "    </tr>\n",
              "  </thead>\n",
              "  <tbody>\n",
              "    <tr>\n",
              "      <th>0</th>\n",
              "      <td>27.900</td>\n",
              "      <td>1</td>\n",
              "      <td>16.884924</td>\n",
              "    </tr>\n",
              "    <tr>\n",
              "      <th>1</th>\n",
              "      <td>33.770</td>\n",
              "      <td>0</td>\n",
              "      <td>1.725552</td>\n",
              "    </tr>\n",
              "    <tr>\n",
              "      <th>2</th>\n",
              "      <td>33.000</td>\n",
              "      <td>0</td>\n",
              "      <td>4.449462</td>\n",
              "    </tr>\n",
              "    <tr>\n",
              "      <th>3</th>\n",
              "      <td>22.705</td>\n",
              "      <td>0</td>\n",
              "      <td>21.984471</td>\n",
              "    </tr>\n",
              "    <tr>\n",
              "      <th>4</th>\n",
              "      <td>28.880</td>\n",
              "      <td>0</td>\n",
              "      <td>3.866855</td>\n",
              "    </tr>\n",
              "  </tbody>\n",
              "</table>\n",
              "</div>"
            ],
            "text/plain": [
              "      bmi  smoker    charges\n",
              "0  27.900       1  16.884924\n",
              "1  33.770       0   1.725552\n",
              "2  33.000       0   4.449462\n",
              "3  22.705       0  21.984471\n",
              "4  28.880       0   3.866855"
            ]
          },
          "metadata": {
            "tags": []
          },
          "execution_count": 3
        }
      ]
    },
    {
      "cell_type": "code",
      "metadata": {
        "id": "X8D-B9WaujV3"
      },
      "source": [
        "X = dados[['bmi', 'charges']]\n",
        "y = dados['smoker'] "
      ],
      "execution_count": null,
      "outputs": []
    },
    {
      "cell_type": "code",
      "metadata": {
        "id": "2JCtBEytu2rG"
      },
      "source": [
        "#VALIDAÇÃO NA REGRESSÃO LOGÍSTICA\n",
        "\n",
        "modelo = LogisticRegression() \n",
        "\n",
        "validacao = KFold(n_splits = 10, shuffle = True)\n",
        "\n",
        "reglog = cross_validate(modelo, X, y, cv = validacao, \n",
        "                        scoring = ['accuracy', 'recall', 'precision']) \n",
        "\n",
        "#Acurácia: ou Taxa de Acerto , proporção de previsões corretas (verdadeiro positivo + verdadeiro negativo) sobre o total de previsão. Bom indicar em dados balanceados.\n",
        "#Recall/Sensibilidade: ou taxa de verdadeiro Positivo, verdadeiro positivo sobre tudo observado como positivo (VP + FN)\n",
        "#Precisão/Precision: verdadeiro positivo sobre tudo apurado como positivo (VP+,FP)\n"
      ],
      "execution_count": null,
      "outputs": []
    },
    {
      "cell_type": "code",
      "metadata": {
        "colab": {
          "base_uri": "https://localhost:8080/"
        },
        "id": "M1WnTSsbu665",
        "outputId": "4a4f7b98-9790-423e-fa3d-fc585dd22ee2"
      },
      "source": [
        "reglog"
      ],
      "execution_count": null,
      "outputs": [
        {
          "output_type": "execute_result",
          "data": {
            "text/plain": [
              "{'fit_time': array([0.01823378, 0.01185846, 0.01251507, 0.01208878, 0.01214862,\n",
              "        0.01244426, 0.01232362, 0.01230669, 0.01285005, 0.01721311]),\n",
              " 'score_time': array([0.00371671, 0.00328231, 0.00330567, 0.00343251, 0.00341535,\n",
              "        0.00336337, 0.00340009, 0.00324416, 0.00348592, 0.00484753]),\n",
              " 'test_accuracy': array([0.91044776, 0.94029851, 0.95522388, 0.95522388, 0.92537313,\n",
              "        0.94029851, 0.92537313, 0.91791045, 0.90977444, 0.92481203]),\n",
              " 'test_precision': array([0.8       , 0.85714286, 0.88888889, 0.96      , 0.86956522,\n",
              "        0.81818182, 0.90625   , 0.875     , 0.7037037 , 0.88      ]),\n",
              " 'test_recall': array([0.88888889, 0.7826087 , 0.8       , 0.82758621, 0.74074074,\n",
              "        0.81818182, 0.80555556, 0.72413793, 0.82608696, 0.75862069])}"
            ]
          },
          "metadata": {
            "tags": []
          },
          "execution_count": 6
        }
      ]
    },
    {
      "cell_type": "code",
      "metadata": {
        "colab": {
          "base_uri": "https://localhost:8080/"
        },
        "id": "3wFduQLQywRc",
        "outputId": "087ed48a-b457-4031-acd2-d91fc40141a1"
      },
      "source": [
        "print('     Acurácia:', round(reglog['test_accuracy'].mean(), 4))\n",
        "print('Sensibilidade:', round(reglog['test_recall'].mean(), 4))\n",
        "print('     Precisão:', round(reglog['test_precision'].mean(), 4))"
      ],
      "execution_count": null,
      "outputs": [
        {
          "output_type": "stream",
          "text": [
            "     Acurácia: 0.9305\n",
            "Sensibilidade: 0.7972\n",
            "     Precisão: 0.8559\n"
          ],
          "name": "stdout"
        }
      ]
    },
    {
      "cell_type": "code",
      "metadata": {
        "id": "8ipwUECXzK33"
      },
      "source": [
        ""
      ],
      "execution_count": null,
      "outputs": []
    }
  ]
}