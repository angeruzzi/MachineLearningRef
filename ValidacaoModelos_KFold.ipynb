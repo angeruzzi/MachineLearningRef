{
  "nbformat": 4,
  "nbformat_minor": 0,
  "metadata": {
    "colab": {
      "name": "ValidacaoModelos_KFold.ipynb",
      "provenance": [],
      "collapsed_sections": [],
      "authorship_tag": "ABX9TyNEQJaY/5F4a6xfC1SOoAxA",
      "include_colab_link": true
    },
    "kernelspec": {
      "name": "python3",
      "display_name": "Python 3"
    },
    "language_info": {
      "name": "python"
    }
  },
  "cells": [
    {
      "cell_type": "markdown",
      "metadata": {
        "id": "view-in-github",
        "colab_type": "text"
      },
      "source": [
        "<a href=\"https://colab.research.google.com/github/angeruzzi/MachineLearningRef/blob/main/ValidacaoModelos_KFold.ipynb\" target=\"_parent\"><img src=\"https://colab.research.google.com/assets/colab-badge.svg\" alt=\"Open In Colab\"/></a>"
      ]
    },
    {
      "cell_type": "markdown",
      "metadata": {
        "id": "Ou6yqgn0ocae"
      },
      "source": [
        "#VALIDAÇÃO CRUZADA : K-FOLD\n",
        "\n",
        "Autor: [Alessandro S. Angeruzzi](https://www.linkedin.com/in/alessandroangeruzzi/)"
      ]
    },
    {
      "cell_type": "code",
      "metadata": {
        "id": "idj6DgXnoTF9"
      },
      "source": [
        "#Bibliotecas\n",
        "import pandas as pd\n",
        "import numpy as np\n",
        "\n",
        "from sklearn.linear_model import LogisticRegression \n",
        "from sklearn.neighbors import KNeighborsClassifier \n",
        "\n",
        "from sklearn.model_selection import KFold\n",
        "from sklearn.model_selection import cross_validate\n",
        "\n",
        "from sklearn.model_selection import RepeatedKFold"
      ],
      "execution_count": 16,
      "outputs": []
    },
    {
      "cell_type": "code",
      "metadata": {
        "colab": {
          "base_uri": "https://localhost:8080/",
          "height": 202
        },
        "id": "r2TA5-BIob3x",
        "outputId": "04edbaa8-368c-4054-da0c-ae5c82538a44"
      },
      "source": [
        "#Base de Dados\n",
        "fonte = 'https://raw.githubusercontent.com/angeruzzi/Datasource/main/exampleDataInsurance.csv'\n",
        "dados = pd.read_csv(fonte)\n",
        "\n",
        "#Transformações\n",
        "#Variável smoker para 0 e 1\n",
        "dados['smoker'] = dados['smoker'].map({'yes':1, 'no':0})\n",
        "\n",
        "#Alterar a escala da variável resposta charges (custo) para mil dólares \n",
        "dados['charges'] = dados['charges']/1000\n",
        "\n",
        "#Faremos as análise utilizando apenas 3 variáveis : charges (custo), bmi (indice de massa corporal) e smoker (fumante)\n",
        "dados = dados[['bmi', 'smoker', 'charges']]\n",
        "\n",
        "dados.head()"
      ],
      "execution_count": 17,
      "outputs": [
        {
          "output_type": "execute_result",
          "data": {
            "text/html": [
              "<div>\n",
              "<style scoped>\n",
              "    .dataframe tbody tr th:only-of-type {\n",
              "        vertical-align: middle;\n",
              "    }\n",
              "\n",
              "    .dataframe tbody tr th {\n",
              "        vertical-align: top;\n",
              "    }\n",
              "\n",
              "    .dataframe thead th {\n",
              "        text-align: right;\n",
              "    }\n",
              "</style>\n",
              "<table border=\"1\" class=\"dataframe\">\n",
              "  <thead>\n",
              "    <tr style=\"text-align: right;\">\n",
              "      <th></th>\n",
              "      <th>bmi</th>\n",
              "      <th>smoker</th>\n",
              "      <th>charges</th>\n",
              "    </tr>\n",
              "  </thead>\n",
              "  <tbody>\n",
              "    <tr>\n",
              "      <th>0</th>\n",
              "      <td>27.900</td>\n",
              "      <td>1</td>\n",
              "      <td>16.884924</td>\n",
              "    </tr>\n",
              "    <tr>\n",
              "      <th>1</th>\n",
              "      <td>33.770</td>\n",
              "      <td>0</td>\n",
              "      <td>1.725552</td>\n",
              "    </tr>\n",
              "    <tr>\n",
              "      <th>2</th>\n",
              "      <td>33.000</td>\n",
              "      <td>0</td>\n",
              "      <td>4.449462</td>\n",
              "    </tr>\n",
              "    <tr>\n",
              "      <th>3</th>\n",
              "      <td>22.705</td>\n",
              "      <td>0</td>\n",
              "      <td>21.984471</td>\n",
              "    </tr>\n",
              "    <tr>\n",
              "      <th>4</th>\n",
              "      <td>28.880</td>\n",
              "      <td>0</td>\n",
              "      <td>3.866855</td>\n",
              "    </tr>\n",
              "  </tbody>\n",
              "</table>\n",
              "</div>"
            ],
            "text/plain": [
              "      bmi  smoker    charges\n",
              "0  27.900       1  16.884924\n",
              "1  33.770       0   1.725552\n",
              "2  33.000       0   4.449462\n",
              "3  22.705       0  21.984471\n",
              "4  28.880       0   3.866855"
            ]
          },
          "metadata": {
            "tags": []
          },
          "execution_count": 17
        }
      ]
    },
    {
      "cell_type": "code",
      "metadata": {
        "id": "X8D-B9WaujV3"
      },
      "source": [
        "X = dados[['bmi', 'charges']]\n",
        "y = dados['smoker'] "
      ],
      "execution_count": 18,
      "outputs": []
    },
    {
      "cell_type": "code",
      "metadata": {
        "id": "2JCtBEytu2rG"
      },
      "source": [
        "#VALIDAÇÃO NA REGRESSÃO LOGÍSTICA\n",
        "\n",
        "modelo = LogisticRegression() \n",
        "\n",
        "validacao = KFold(n_splits = 10, shuffle = True)\n",
        "\n",
        "reglog = cross_validate(modelo, X, y, cv = validacao, \n",
        "                        scoring = ['accuracy', 'recall', 'precision']) \n",
        "\n",
        "#Acurácia: ou Taxa de Acerto , proporção de previsões corretas (verdadeiro positivo + verdadeiro negativo) sobre o total de previsão. Bom indicar em dados balanceados.\n",
        "#Recall/Sensibilidade: ou taxa de verdadeiro Positivo, verdadeiro positivo sobre tudo observado como positivo (VP + FN)\n",
        "#Precisão/Precision: verdadeiro positivo sobre tudo apurado como positivo (VP+,FP)\n"
      ],
      "execution_count": 19,
      "outputs": []
    },
    {
      "cell_type": "code",
      "metadata": {
        "colab": {
          "base_uri": "https://localhost:8080/"
        },
        "id": "M1WnTSsbu665",
        "outputId": "114cdb9d-737c-4173-935b-8c885c7af018"
      },
      "source": [
        "reglog"
      ],
      "execution_count": 6,
      "outputs": [
        {
          "output_type": "execute_result",
          "data": {
            "text/plain": [
              "{'fit_time': array([0.01663876, 0.00965905, 0.00918603, 0.00923872, 0.00908685,\n",
              "        0.01399064, 0.0095346 , 0.00918818, 0.00904369, 0.00879097]),\n",
              " 'score_time': array([0.00420737, 0.0027554 , 0.00278258, 0.00267553, 0.00267935,\n",
              "        0.00454903, 0.00270438, 0.00265718, 0.00264859, 0.0026505 ]),\n",
              " 'test_accuracy': array([0.93283582, 0.94776119, 0.8880597 , 0.94029851, 0.95522388,\n",
              "        0.95522388, 0.95522388, 0.87313433, 0.93984962, 0.92481203]),\n",
              " 'test_precision': array([0.79310345, 0.86363636, 0.77777778, 0.84615385, 0.94117647,\n",
              "        0.89285714, 1.        , 0.75757576, 0.85      , 0.84615385]),\n",
              " 'test_recall': array([0.88461538, 0.82608696, 0.7       , 0.84615385, 0.76190476,\n",
              "        0.89285714, 0.83333333, 0.73529412, 0.77272727, 0.78571429])}"
            ]
          },
          "metadata": {
            "tags": []
          },
          "execution_count": 6
        }
      ]
    },
    {
      "cell_type": "code",
      "metadata": {
        "colab": {
          "base_uri": "https://localhost:8080/"
        },
        "id": "3wFduQLQywRc",
        "outputId": "cce1ee58-f5bf-4661-be37-62cea257cdcc"
      },
      "source": [
        "print('     Acurácia:', round(reglog['test_accuracy'].mean(), 4))\n",
        "print('Sensibilidade:', round(reglog['test_recall'].mean(), 4))\n",
        "print('     Precisão:', round(reglog['test_precision'].mean(), 4))"
      ],
      "execution_count": 20,
      "outputs": [
        {
          "output_type": "stream",
          "text": [
            "     Acurácia: 0.9305\n",
            "Sensibilidade: 0.7936\n",
            "     Precisão: 0.8404\n"
          ],
          "name": "stdout"
        }
      ]
    },
    {
      "cell_type": "code",
      "metadata": {
        "id": "zHx1KzHx-pFc"
      },
      "source": [
        ""
      ],
      "execution_count": null,
      "outputs": []
    },
    {
      "cell_type": "code",
      "metadata": {
        "id": "8ipwUECXzK33"
      },
      "source": [
        "#USANDO O K-FOLD REPETIDO\n",
        "\n",
        "validacao_r = RepeatedKFold(n_splits = 10, n_repeats = 5)\n",
        "\n",
        "reglog_r = cross_validate(modelo, X, y, cv = validacao_r, \n",
        "                        scoring = ['accuracy', 'recall', 'precision'])"
      ],
      "execution_count": 22,
      "outputs": []
    },
    {
      "cell_type": "code",
      "metadata": {
        "id": "5O-LLzIK9Aar",
        "outputId": "c39a4ce8-8cd9-4b62-cc11-3d81ddf5d0f3",
        "colab": {
          "base_uri": "https://localhost:8080/"
        }
      },
      "source": [
        "print('     Acurácia:', round(reglog_r['test_accuracy'].mean(), 4))\n",
        "print('Sensibilidade:', round(reglog_r['test_recall'].mean(), 4))\n",
        "print('     Precisão:', round(reglog_r['test_precision'].mean(), 4))"
      ],
      "execution_count": 23,
      "outputs": [
        {
          "output_type": "stream",
          "text": [
            "     Acurácia: 0.9326\n",
            "Sensibilidade: 0.8056\n",
            "     Precisão: 0.86\n"
          ],
          "name": "stdout"
        }
      ]
    },
    {
      "cell_type": "code",
      "metadata": {
        "id": "d0G5e2JD995j"
      },
      "source": [
        ""
      ],
      "execution_count": null,
      "outputs": []
    }
  ]
}