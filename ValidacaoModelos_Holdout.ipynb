{
  "nbformat": 4,
  "nbformat_minor": 0,
  "metadata": {
    "colab": {
      "name": "Untitled6.ipynb",
      "provenance": [],
      "collapsed_sections": [],
      "authorship_tag": "ABX9TyOfTBBeCW5DyywKGhuUvS56",
      "include_colab_link": true
    },
    "kernelspec": {
      "name": "python3",
      "display_name": "Python 3"
    },
    "language_info": {
      "name": "python"
    }
  },
  "cells": [
    {
      "cell_type": "markdown",
      "metadata": {
        "id": "view-in-github",
        "colab_type": "text"
      },
      "source": [
        "<a href=\"https://colab.research.google.com/github/angeruzzi/MachineLearningRef/blob/main/ValidacaoModelos_Holdout.ipynb\" target=\"_parent\"><img src=\"https://colab.research.google.com/assets/colab-badge.svg\" alt=\"Open In Colab\"/></a>"
      ]
    },
    {
      "cell_type": "markdown",
      "metadata": {
        "id": "QPrZXLhb73qd"
      },
      "source": [
        "#Métodos de Validação de Modelos"
      ]
    },
    {
      "cell_type": "code",
      "metadata": {
        "id": "q3psS65L8UB7"
      },
      "source": [
        "#Importação das bibliotecas Utilizadas\n",
        "import pandas as pd\n",
        "import numpy as np\n",
        "from sklearn.linear_model import LinearRegression #LinearRegression\n",
        "from sklearn.metrics import mean_squared_error #EQM\n",
        "\n",
        "from sklearn.model_selection import train_test_split #Holdout\n"
      ],
      "execution_count": 1,
      "outputs": []
    },
    {
      "cell_type": "code",
      "metadata": {
        "id": "x68-8mXz8Xgw"
      },
      "source": [
        "#Dados Utilizados\n",
        "fonte = 'https://raw.githubusercontent.com/angeruzzi/Datasource/main/exampleDataInsurance.csv'\n",
        "dados = pd.read_csv(fonte)\n",
        "#Tratativas\n",
        "dados['smoker'] = dados['smoker'].map({'yes':1, 'no':0})\n",
        "dados['charges'] = dados['charges']/1000\n",
        "dados = dados[['bmi', 'smoker', 'charges']]"
      ],
      "execution_count": 2,
      "outputs": []
    },
    {
      "cell_type": "code",
      "metadata": {
        "id": "sbTqMmc_8dZr"
      },
      "source": [
        "#Modelo de exemplo: Linear Regression\n",
        "#Criando um modelo para previsão de custos de seguro de saúde baseados nas variáveis BMI (ICM) e SMOKER (fumante)\n",
        "X = dados[['bmi', 'smoker']]\n",
        "y = dados['charges'] \n",
        "regressao = LinearRegression()\n",
        "regressao.fit(X, y)\n",
        "preditos = regressao.predict(X)"
      ],
      "execution_count": 3,
      "outputs": []
    },
    {
      "cell_type": "markdown",
      "metadata": {
        "id": "DEwcNjw38Le4"
      },
      "source": [
        "##HOLDOUT\n",
        "\n",
        "Técnica de validação em que se separa o conjunto de dados em Treino e Teste"
      ]
    },
    {
      "cell_type": "code",
      "metadata": {
        "id": "x23IJ30b70V3"
      },
      "source": [
        "#Separando os dados em teste e treinamento\n",
        "#4 conjuntos são retornados:\n",
        "#Xtreino: Dados para treino \n",
        "#Xteste : Dados para os testes \n",
        "#ytreino: variável retorno equivalente ao treino\n",
        "#yteste : variável retorno equivalente ao teste\n",
        "#Parâmetros de entrada: (Conjunto das variáveis de entrada, conjunto da variável de retorno, % que será destinado ao conjunto de testes)\n",
        "Xtreino, Xteste, ytreino, yteste = train_test_split(X, y, test_size = 0.25) \n",
        "\n",
        "#Imprimir os dados gerados\n",
        "#train_test_split(X, y, test_size = 0.25)"
      ],
      "execution_count": 4,
      "outputs": []
    },
    {
      "cell_type": "code",
      "metadata": {
        "colab": {
          "base_uri": "https://localhost:8080/"
        },
        "id": "-eH6I_VL93ZR",
        "outputId": "0e0fd456-1d9c-4c40-c216-771fdf661987"
      },
      "source": [
        "#Ajuste do modelo nos dados de TREINO\n",
        "regressaoT = LinearRegression()\n",
        "regressaoT.fit(Xtreino, ytreino)\n",
        "\n",
        "#Utilize o modelo ajustado para predizer os dados de TESTE\n",
        "preditosT = regressaoT.predict(Xteste)\n",
        "\n",
        "#Calcule o Erro Quadrático Médio nos dados de TESTE\n",
        "eqm = mean_squared_error(yteste, preditosT)\n",
        "print('EQM : {}'.format(round(eqm, 2)))"
      ],
      "execution_count": 5,
      "outputs": [
        {
          "output_type": "stream",
          "text": [
            "EQM : 56.72\n"
          ],
          "name": "stdout"
        }
      ]
    },
    {
      "cell_type": "markdown",
      "metadata": {
        "id": "HTShE5eMR9LB"
      },
      "source": [
        "##HOLDOUT REPETIDO\n",
        "\n",
        "Aplicar a técnica de HOLDOUT n vezes armazenando o EQM e no fim considera a média dos resultados."
      ]
    },
    {
      "cell_type": "code",
      "metadata": {
        "colab": {
          "base_uri": "https://localhost:8080/"
        },
        "id": "P5HzZqEBS6z9",
        "outputId": "2eb59ce0-bc15-4bc7-c249-cdc5510b7bd6"
      },
      "source": [
        "R = 1000\n",
        "eqms = []\n",
        "maes = []\n",
        "\n",
        "for i in range(R):\n",
        "  Xtreino, Xteste, ytreino, yteste = train_test_split(X, y, test_size = 0.25)\n",
        "  reg = LinearRegression()\n",
        "  reg.fit(Xtreino, ytreino)\n",
        "  preditos = reg.predict(Xteste)\n",
        "  eqm = mean_squared_error(yteste, preditos)\n",
        "  eqms.append(eqm)\n",
        "\n",
        "print(np.mean(eqms))\n"
      ],
      "execution_count": 10,
      "outputs": [
        {
          "output_type": "stream",
          "text": [
            "50.53915919992743\n"
          ],
          "name": "stdout"
        }
      ]
    },
    {
      "cell_type": "code",
      "metadata": {
        "colab": {
          "base_uri": "https://localhost:8080/",
          "height": 265
        },
        "id": "mR0M942tVOe0",
        "outputId": "9ed5fae2-bc3e-4586-c61e-6049c3b45e5c"
      },
      "source": [
        "import matplotlib.pyplot as plt\n",
        "\n",
        "plt.hist(eqms, edgecolor = 'black')\n",
        "plt.show()"
      ],
      "execution_count": 11,
      "outputs": [
        {
          "output_type": "display_data",
          "data": {
            "image/png": "[encoded data removed]",
            "text/plain": [
              "<Figure size 432x288 with 1 Axes>"
            ]
          },
          "metadata": {
            "tags": [],
            "needs_background": "light"
          }
        }
      ]
    },
    {
      "cell_type": "code",
      "metadata": {
        "id": "w8moMsY4VO3D"
      },
      "source": [
        ""
      ],
      "execution_count": null,
      "outputs": []
    }
  ]
}
